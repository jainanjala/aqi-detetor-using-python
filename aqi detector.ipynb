{
 "cells": [
  {
   "cell_type": "code",
   "execution_count": 5,
   "metadata": {},
   "outputs": [
    {
     "name": "stdout",
     "output_type": "stream",
     "text": [
      "{'status': 'ok', 'data': {'aqi': 180, 'idx': 7024, 'attributions': [{'url': 'http://worldweather.wmo.int', 'name': 'World Meteorological Organization - surface synoptic observations (WMO-SYNOP)'}, {'url': 'https://in.usembassy.gov/embassy-consulates/new-delhi/air-quality-data/', 'name': \"U.S. Embassy and Consulates' Air Quality Monitor in India\", 'logo': 'US-StateDepartment.png'}, {'url': 'https://waqi.info/', 'name': 'World Air Quality Index Project'}], 'city': {'geo': [28.63576, 77.22445], 'name': 'New Delhi US Embassy, India (नई दिल्ली अमेरिकी दूतावास)', 'url': 'https://aqicn.org/city/india/new-delhi/us-embassy', 'location': ''}, 'dominentpol': 'pm25', 'iaqi': {'dew': {'v': 11}, 'h': {'v': 87}, 'p': {'v': 1020}, 'pm25': {'v': 180}, 't': {'v': 13}, 'w': {'v': 5.1}, 'wg': {'v': 8.2}}, 'time': {'s': '2024-12-29 15:00:00', 'tz': '+05:30', 'v': 1735484400, 'iso': '2024-12-29T15:00:00+05:30'}, 'forecast': {'daily': {'o3': [{'avg': 6, 'day': '2024-12-27', 'max': 11, 'min': 1}, {'avg': 2, 'day': '2024-12-28', 'max': 14, 'min': 1}, {'avg': 4, 'day': '2024-12-29', 'max': 18, 'min': 1}, {'avg': 7, 'day': '2024-12-30', 'max': 27, 'min': 3}, {'avg': 5, 'day': '2024-12-31', 'max': 24, 'min': 1}, {'avg': 15, 'day': '2025-01-01', 'max': 29, 'min': 5}, {'avg': 17, 'day': '2025-01-02', 'max': 30, 'min': 12}, {'avg': 14, 'day': '2025-01-03', 'max': 14, 'min': 9}], 'pm10': [{'avg': 113, 'day': '2024-12-27', 'max': 113, 'min': 113}, {'avg': 72, 'day': '2024-12-28', 'max': 100, 'min': 58}, {'avg': 95, 'day': '2024-12-29', 'max': 120, 'min': 58}, {'avg': 64, 'day': '2024-12-30', 'max': 73, 'min': 46}, {'avg': 65, 'day': '2024-12-31', 'max': 73, 'min': 50}, {'avg': 65, 'day': '2025-01-01', 'max': 73, 'min': 58}, {'avg': 63, 'day': '2025-01-02', 'max': 73, 'min': 46}, {'avg': 68, 'day': '2025-01-03', 'max': 73, 'min': 58}, {'avg': 73, 'day': '2025-01-04', 'max': 73, 'min': 58}], 'pm25': [{'avg': 232, 'day': '2024-12-27', 'max': 232, 'min': 232}, {'avg': 174, 'day': '2024-12-28', 'max': 206, 'min': 159}, {'avg': 206, 'day': '2024-12-29', 'max': 246, 'min': 159}, {'avg': 163, 'day': '2024-12-30', 'max': 174, 'min': 138}, {'avg': 166, 'day': '2024-12-31', 'max': 174, 'min': 138}, {'avg': 166, 'day': '2025-01-01', 'max': 174, 'min': 159}, {'avg': 161, 'day': '2025-01-02', 'max': 174, 'min': 138}, {'avg': 166, 'day': '2025-01-03', 'max': 174, 'min': 159}, {'avg': 172, 'day': '2025-01-04', 'max': 174, 'min': 159}], 'uvi': [{'avg': 0, 'day': '2024-12-28', 'max': 0, 'min': 0}, {'avg': 1, 'day': '2024-12-29', 'max': 3, 'min': 0}, {'avg': 1, 'day': '2024-12-30', 'max': 4, 'min': 0}, {'avg': 1, 'day': '2024-12-31', 'max': 4, 'min': 0}, {'avg': 1, 'day': '2025-01-01', 'max': 4, 'min': 0}, {'avg': 2, 'day': '2025-01-02', 'max': 4, 'min': 0}]}}, 'debug': {'sync': '2024-12-29T18:48:01+09:00'}}}\n"
     ]
    }
   ],
   "source": [
    "import tkinter as tk\n",
    "from tkinter import messagebox\n",
    "import requests\n",
    "\n",
    "def category_name(aqi):\n",
    "    if aqi <= 50:\n",
    "        return 'Good'\n",
    "    elif aqi <= 100:\n",
    "        return 'Moderate'\n",
    "    elif aqi <= 150:\n",
    "        return 'Unhealthy for Sensitive Groups'\n",
    "    elif aqi <= 200:\n",
    "        return 'Unhealthy'\n",
    "    elif aqi <= 300:\n",
    "        return 'Very Unhealthy'\n",
    "    else:\n",
    "        return 'Hazardous'\n",
    "\n",
    "def check_aqi():\n",
    "    city = city_entry.get()\n",
    "    api_key = '0e9a22d93a853daaf977c83e514d18c8ead4f360'\n",
    "    url = f\"http://api.waqi.info/feed/{city}/?token={api_key}\"\n",
    "    response = requests.get(url)\n",
    "    json_data = response.json()\n",
    "    print(json_data)  \n",
    "    aqi = json_data['data']['aqi']\n",
    "    category = category_name(aqi)\n",
    "    result_label.config(text=f\"The AQI in {city} is {aqi}, which is {category}.\")\n",
    "        \n",
    "\n",
    "# Create the main window\n",
    "root = tk.Tk()\n",
    "root.title(\"AQI Checker\")\n",
    "root.geometry('400x400')\n",
    "\n",
    "#create title\n",
    "title_label = tk.Label(root,text='AIR QUALITY DETECTOR',font=('Arial',17))\n",
    "title_label.pack(pady=14)\n",
    "\n",
    "\n",
    "# Create and place the city entry label and input field\n",
    "city_label = tk.Label(root, text=\"Enter city:\" , font=('Arial',13))\n",
    "city_label.pack(pady=10)\n",
    "city_entry = tk.Entry(root)\n",
    "city_entry.pack(pady=5)\n",
    "\n",
    "# Create and place the check button\n",
    "check_button = tk.Button(root, text=\"Check AQI\", command=check_aqi)\n",
    "check_button.pack(pady=10)\n",
    "\n",
    "# Create and place the result label\n",
    "result_label = tk.Label(root, text=\"\")\n",
    "result_label.pack(pady=20)\n",
    "\n",
    "#frame to display aqi information\n",
    "aqi_frame = tk.LabelFrame(root,text='aqi_info',font=('arial',13))\n",
    "aqi_frame.pack(padx=10,pady=10)\n",
    "\n",
    "# Start the main event loop\n",
    "root.mainloop()\n"
   ]
  }
 ],
 "metadata": {
  "kernelspec": {
   "display_name": "Python 3",
   "language": "python",
   "name": "python3"
  },
  "language_info": {
   "codemirror_mode": {
    "name": "ipython",
    "version": 3
   },
   "file_extension": ".py",
   "mimetype": "text/x-python",
   "name": "python",
   "nbconvert_exporter": "python",
   "pygments_lexer": "ipython3",
   "version": "3.12.4"
  }
 },
 "nbformat": 4,
 "nbformat_minor": 2
}
